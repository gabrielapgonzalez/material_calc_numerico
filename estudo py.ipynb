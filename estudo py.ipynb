{
 "cells": [
  {
   "cell_type": "code",
   "execution_count": 63,
   "metadata": {},
   "outputs": [],
   "source": [
    "import pandas as pd\n",
    "import numpy as np\n",
    "import math"
   ]
  },
  {
   "cell_type": "code",
   "execution_count": 74,
   "metadata": {},
   "outputs": [],
   "source": [
    "def f(x):\n",
    "    y = x**4 + 2*x**3-7*x**2+3\n",
    "    return y\n",
    "\n",
    "def f(x):\n",
    "    y = math.exp(-x) - math.cos(x)\n",
    "    return y"
   ]
  },
  {
   "cell_type": "code",
   "execution_count": 78,
   "metadata": {},
   "outputs": [],
   "source": [
    "def fl(x):\n",
    "    y = 4*x**3+6*x**2-14*x\n",
    "    return y\n",
    "\n",
    "def fl(x):\n",
    "    y = - math.exp(-x) + math.sin(x)\n",
    "    return y"
   ]
  },
  {
   "cell_type": "code",
   "execution_count": 79,
   "metadata": {},
   "outputs": [],
   "source": [
    "def newton(x):\n",
    "    y = x-f(x)/fl(x)\n",
    "    return float(y)"
   ]
  },
  {
   "cell_type": "code",
   "execution_count": 80,
   "metadata": {},
   "outputs": [
    {
     "name": "stdout",
     "output_type": "stream",
     "text": [
      "[1.3083620173838646]\n"
     ]
    }
   ],
   "source": [
    "values = []\n",
    "i = math.pi/2\n",
    "x = newton(i)\n",
    "values.append(x)\n",
    "print(values)"
   ]
  },
  {
   "cell_type": "code",
   "execution_count": 93,
   "metadata": {},
   "outputs": [
    {
     "name": "stdout",
     "output_type": "stream",
     "text": [
      "[1.3083620173838646, 1.292790319603923, 1.2926957229485267, 1.2926957193733983, 1.2926957193733983, 1.2926957193733983, 1.2926957193733983, 1.2926957193733983, 1.2926957193733983, 1.2926957193733983, 1.2926957193733983, 1.2926957193733983, 1.2926957193733983, 1.2926957193733983]\n"
     ]
    }
   ],
   "source": [
    "x = newton(x)\n",
    "values.append(x)\n",
    "print(values)"
   ]
  },
  {
   "cell_type": "code",
   "execution_count": null,
   "metadata": {},
   "outputs": [],
   "source": []
  }
 ],
 "metadata": {
  "kernelspec": {
   "display_name": "Python 3",
   "language": "python",
   "name": "python3"
  },
  "language_info": {
   "codemirror_mode": {
    "name": "ipython",
    "version": 2
   },
   "file_extension": ".py",
   "mimetype": "text/x-python",
   "name": "python",
   "nbconvert_exporter": "python",
   "pygments_lexer": "ipython2",
   "version": "2.7.12"
  }
 },
 "nbformat": 4,
 "nbformat_minor": 2
}
