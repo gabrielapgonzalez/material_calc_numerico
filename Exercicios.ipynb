{
 "cells": [
  {
   "cell_type": "markdown",
   "metadata": {},
   "source": [
    "## Capítulo 0"
   ]
  },
  {
   "cell_type": "markdown",
   "metadata": {},
   "source": [
    "### Exercício 1"
   ]
  },
  {
   "cell_type": "code",
   "execution_count": 1,
   "metadata": {},
   "outputs": [
    {
     "name": "stdout",
     "output_type": "stream",
     "text": [
      "ans =  74.210\n"
     ]
    }
   ],
   "source": [
    "cosh(5)"
   ]
  },
  {
   "cell_type": "code",
   "execution_count": 4,
   "metadata": {},
   "outputs": [
    {
     "name": "stdout",
     "output_type": "stream",
     "text": [
      "ans =  74.210\n"
     ]
    }
   ],
   "source": [
    "(e^5 + e^(-5))/2"
   ]
  },
  {
   "cell_type": "code",
   "execution_count": 6,
   "metadata": {},
   "outputs": [
    {
     "name": "stdout",
     "output_type": "stream",
     "text": [
      "ans =  0.91031\n"
     ]
    }
   ],
   "source": [
    "erf(1.2)"
   ]
  },
  {
   "cell_type": "code",
   "execution_count": 12,
   "metadata": {},
   "outputs": [
    {
     "name": "stdout",
     "output_type": "stream",
     "text": [
      "ans =  0.50000\n",
      "ans =  0.50000\n"
     ]
    }
   ],
   "source": [
    "# opção 1\n",
    "function y = f(x)\n",
    "    m = 1;\n",
    "    n = 2;\n",
    "    y = x^(m-1)*(1-x)^(n-1);\n",
    "    end\n",
    "quad(\"f\", 0, 1)\n",
    "\n",
    "# opção 2\n",
    "beta(1,2)"
   ]
  },
  {
   "cell_type": "code",
   "execution_count": 13,
   "metadata": {},
   "outputs": [
    {
     "name": "stdout",
     "output_type": "stream",
     "text": [
      "ans =  0.22389\n"
     ]
    }
   ],
   "source": [
    "besselj(0,2)"
   ]
  },
  {
   "cell_type": "markdown",
   "metadata": {},
   "source": [
    "### Exercício 2"
   ]
  },
  {
   "cell_type": "code",
   "execution_count": 25,
   "metadata": {},
   "outputs": [
    {
     "name": "stdout",
     "output_type": "stream",
     "text": [
      "ans = 0\n"
     ]
    }
   ],
   "source": [
    "x = linspace(0, 10, 5);\n",
    "x1 = 0:2.5:10.1;\n",
    "norm(x - x1, 2)"
   ]
  },
  {
   "cell_type": "code",
   "execution_count": 40,
   "metadata": {},
   "outputs": [
    {
     "name": "stdout",
     "output_type": "stream",
     "text": [
      "ans = 0\n"
     ]
    }
   ],
   "source": [
    "x = linspace(-5, 5);\n",
    "n = (5 - (-5))/99;\n",
    "x1 = -5:n:5;\n",
    "norm(x - x1, 2)"
   ]
  },
  {
   "cell_type": "code",
   "execution_count": 42,
   "metadata": {},
   "outputs": [
    {
     "name": "stdout",
     "output_type": "stream",
     "text": [
      "ans = 0\n"
     ]
    }
   ],
   "source": [
    "x = logspace(1, 3, 3);\n",
    "x1 = 10.^(1:3);\n",
    "norm(x - x1, 2)"
   ]
  },
  {
   "cell_type": "code",
   "execution_count": 44,
   "metadata": {},
   "outputs": [
    {
     "name": "stdout",
     "output_type": "stream",
     "text": [
      "ans = 0\n"
     ]
    }
   ],
   "source": [
    "x = linspace(1, 3, 5);\n",
    "x1 = 1:0.5:3;\n",
    "norm(x - x1, 2)"
   ]
  },
  {
   "cell_type": "markdown",
   "metadata": {},
   "source": [
    "### Exercício 3"
   ]
  },
  {
   "cell_type": "code",
   "execution_count": 3,
   "metadata": {},
   "outputs": [
    {
     "name": "stdout",
     "output_type": "stream",
     "text": [
      "x1 =\n",
      "\n",
      "    1.0000    1.5000    2.0000    2.5000    3.0000\n",
      "\n",
      "x2 =\n",
      "\n",
      "   1.0000\n",
      "   1.5000\n",
      "   2.0000\n",
      "   2.5000\n",
      "   3.0000\n",
      "\n"
     ]
    }
   ],
   "source": [
    "# Para trasnpor é só colocar entre parenteses e uma apostofre\n",
    "x1 = 1:0.5:3\n",
    "x2 = (1:0.5:3)'"
   ]
  },
  {
   "cell_type": "markdown",
   "metadata": {},
   "source": [
    "### Exercício 4"
   ]
  },
  {
   "cell_type": "code",
   "execution_count": 8,
   "metadata": {},
   "outputs": [
    {
     "name": "stdout",
     "output_type": "stream",
     "text": [
      "ans = 0\n"
     ]
    }
   ],
   "source": [
    "x = 0:10;\n",
    "x1 = linspace(0,10,11);\n",
    "norm(x - x1, 2)"
   ]
  },
  {
   "cell_type": "code",
   "execution_count": 9,
   "metadata": {},
   "outputs": [
    {
     "name": "stdout",
     "output_type": "stream",
     "text": [
      "ans = 0\n"
     ]
    }
   ],
   "source": [
    "x = 0:0.2:10;\n",
    "x1 = linspace(0,10,10/0.2 + 1);\n",
    "norm(x - x1, 2)"
   ]
  },
  {
   "cell_type": "code",
   "execution_count": 10,
   "metadata": {},
   "outputs": [
    {
     "name": "stdout",
     "output_type": "stream",
     "text": [
      "ans = 0\n"
     ]
    }
   ],
   "source": [
    "x = -12:12;\n",
    "x1 = linspace(-12,12,25);\n",
    "norm(x - x1, 2)"
   ]
  },
  {
   "cell_type": "code",
   "execution_count": 11,
   "metadata": {},
   "outputs": [
    {
     "name": "stdout",
     "output_type": "stream",
     "text": [
      "ans = 0\n"
     ]
    }
   ],
   "source": [
    "x = 10:-1:1;\n",
    "x1 = linspace(10,1,10);\n",
    "norm(x - x1, 2)"
   ]
  },
  {
   "cell_type": "markdown",
   "metadata": {},
   "source": [
    "### Exercício 5"
   ]
  },
  {
   "cell_type": "code",
   "execution_count": 15,
   "metadata": {},
   "outputs": [
    {
     "name": "stdout",
     "output_type": "stream",
     "text": [
      "ans = 0\n"
     ]
    }
   ],
   "source": [
    "x = [250, 2500, 25000, 250000];\n",
    "x1 = 25*logspace(1,4, 4);\n",
    "norm(x - x1, 2)"
   ]
  },
  {
   "cell_type": "markdown",
   "metadata": {},
   "source": [
    "### Exercício 6"
   ]
  },
  {
   "cell_type": "code",
   "execution_count": 18,
   "metadata": {},
   "outputs": [
    {
     "name": "stdout",
     "output_type": "stream",
     "text": [
      "z =\n",
      "\n",
      "   9   7   5   3\n",
      "\n",
      "z =\n",
      "\n",
      "   9   7   5   3\n",
      "\n"
     ]
    }
   ],
   "source": [
    "x = [10 9 8 7];\n",
    "y = [1 2 3 4]';\n",
    "\n",
    "z = x - y'\n",
    "z = (x' - y)'"
   ]
  },
  {
   "cell_type": "markdown",
   "metadata": {},
   "source": [
    "### Exercício 7"
   ]
  },
  {
   "cell_type": "code",
   "execution_count": 29,
   "metadata": {},
   "outputs": [
    {
     "name": "stdout",
     "output_type": "stream",
     "text": [
      "flip                Flip array across dimension DIM.\n",
      "flipdim             Flip array across dimension DIM.\n",
      "fliplr              Flip array left to right.\n",
      "flipud              Flip array upside down.\n",
      "B =\n",
      "\n",
      "   7   8   9\n",
      "   4   5   6\n",
      "   1   2   3\n",
      "\n"
     ]
    }
   ],
   "source": [
    "A = [1 2 3\n",
    "    4 5 6\n",
    "    7 8 9];\n",
    "\n",
    "lookfor flip\n",
    "\n",
    "B = flipud(A)"
   ]
  },
  {
   "cell_type": "markdown",
   "metadata": {},
   "source": [
    "### Exercício 8"
   ]
  },
  {
   "cell_type": "code",
   "execution_count": 37,
   "metadata": {},
   "outputs": [
    {
     "name": "stdout",
     "output_type": "stream",
     "text": [
      "s =\n",
      "\n",
      "   11\n",
      "    2\n",
      "   18\n",
      "\n",
      "t =\n",
      "\n",
      "   5\n",
      "   1\n",
      "   7\n",
      "\n"
     ]
    }
   ],
   "source": [
    "C = [11 5\n",
    "    2 1\n",
    "    18 7];\n",
    "\n",
    "s = C(1:3)'\n",
    "t = C(4:6)'"
   ]
  },
  {
   "cell_type": "code",
   "execution_count": null,
   "metadata": {},
   "outputs": [],
   "source": []
  }
 ],
 "metadata": {
  "kernelspec": {
   "display_name": "Octave",
   "language": "octave",
   "name": "octave"
  },
  "language_info": {
   "file_extension": ".m",
   "help_links": [
    {
     "text": "GNU Octave",
     "url": "https://www.gnu.org/software/octave/support.html"
    },
    {
     "text": "Octave Kernel",
     "url": "https://github.com/Calysto/octave_kernel"
    },
    {
     "text": "MetaKernel Magics",
     "url": "https://github.com/calysto/metakernel/blob/master/metakernel/magics/README.md"
    }
   ],
   "mimetype": "text/x-octave",
   "name": "octave",
   "version": "4.0.0"
  }
 },
 "nbformat": 4,
 "nbformat_minor": 2
}
